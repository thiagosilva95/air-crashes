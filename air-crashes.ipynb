{
 "cells": [
  {
   "cell_type": "markdown",
   "metadata": {},
   "source": [
    "<h1>Um estudo sobre acidentes aéreos</h1>"
   ]
  },
  {
   "cell_type": "markdown",
   "metadata": {},
   "source": [
    "<h1>Perguntas a serem respondidas</h1>\n",
    "\n",
    "Dentre outros <i>insights</i> gerados através deste estudo, quero responder as seguintes perguntas:\n",
    "<br>\n",
    "<br>\n",
    "<li>Quais são as maiores causas de ocorrências e, eventualmente, queda de aviões?</li>\n",
    "<li>Como tem sido a progressão desses casos nos últimos anos? Tiveram menos ocorrências ou mais?</li>\n",
    "<li>Quais os estados que mais possuem ocorrências registradas?</li>\n",
    "<li>Qual tipo de aeronave possui mais problemas? Aviões, jatos, planadores? </li>\n",
    "<li>Quais as fabricantes com maior número de defeitos registrados?</li>\n",
    "<li>Será que durante o pouso é mais comum ter problemas do que durante a decolagem? Ou durante a viagem em si é mais frequente surgir defeitos?</li>\n",
    "<li>Viagens comerciais regulares tendem a ter mais problemas do que voos fretados?</li>\n",
    "<li>Quantos incidentes com fatalidades (morte de passageiros e tripulação) temos registro nos últimos 10 anos?</li>"
   ]
  },
  {
   "cell_type": "markdown",
   "metadata": {},
   "source": [
    "<h2>Importando bibliotecas</h2>"
   ]
  },
  {
   "cell_type": "code",
   "execution_count": 12,
   "metadata": {
    "collapsed": true
   },
   "outputs": [],
   "source": [
    "%matplotlib inline\n",
    "import pandas as pd\n",
    "import matplotlib.pyplot as plt\n",
    "import random"
   ]
  },
  {
   "cell_type": "markdown",
   "metadata": {},
   "source": [
    "<h2>Leitura dos Datasets</h2>"
   ]
  },
  {
   "cell_type": "code",
   "execution_count": 2,
   "metadata": {
    "collapsed": true
   },
   "outputs": [],
   "source": [
    "ocorrencia = pd.read_csv('./dataset/ocorrencia.csv')\n",
    "aeronave = pd.read_csv('./dataset/aeronave.csv')"
   ]
  },
  {
   "cell_type": "code",
   "execution_count": 8,
   "metadata": {},
   "outputs": [
    {
     "name": "stdout",
     "output_type": "stream",
     "text": [
      "O arquivo \"ocorrencia.csv\" 2027 linhas e 19 colunas\n"
     ]
    }
   ],
   "source": [
    "print('O arquivo \\\"ocorrencia.csv\\\" ' + str(ocorrencia.shape[0]) + ' linhas e ' + str(ocorrencia.shape[1]) + ' colunas')"
   ]
  },
  {
   "cell_type": "code",
   "execution_count": 10,
   "metadata": {},
   "outputs": [
    {
     "name": "stdout",
     "output_type": "stream",
     "text": [
      "O arquivo \"aeronave.csv\" 2043 linhas e 22 colunas\n"
     ]
    }
   ],
   "source": [
    "print('O arquivo \\\"aeronave.csv\\\" ' + str(aeronave.shape[0]) + ' linhas e ' +str(aeronave.shape[1]) + ' colunas')"
   ]
  },
  {
   "cell_type": "markdown",
   "metadata": {},
   "source": [
    "<h2>Limpeza de Dados</h2>"
   ]
  },
  {
   "cell_type": "code",
   "execution_count": 17,
   "metadata": {},
   "outputs": [
    {
     "data": {
      "text/html": [
       "<div>\n",
       "<style scoped>\n",
       "    .dataframe tbody tr th:only-of-type {\n",
       "        vertical-align: middle;\n",
       "    }\n",
       "\n",
       "    .dataframe tbody tr th {\n",
       "        vertical-align: top;\n",
       "    }\n",
       "\n",
       "    .dataframe thead th {\n",
       "        text-align: right;\n",
       "    }\n",
       "</style>\n",
       "<table border=\"1\" class=\"dataframe\">\n",
       "  <thead>\n",
       "    <tr style=\"text-align: right;\">\n",
       "      <th></th>\n",
       "      <th>codigo_ocorrencia</th>\n",
       "      <th>classificacao</th>\n",
       "      <th>tipo</th>\n",
       "      <th>localidade</th>\n",
       "      <th>uf</th>\n",
       "      <th>pais</th>\n",
       "      <th>aerodromo</th>\n",
       "      <th>dia_ocorrencia</th>\n",
       "      <th>horario</th>\n",
       "      <th>sera_investigada</th>\n",
       "      <th>comando_investigador</th>\n",
       "      <th>status_investigacao</th>\n",
       "      <th>numero_relatorio</th>\n",
       "      <th>relatorio_publicado</th>\n",
       "      <th>dia_publicacao</th>\n",
       "      <th>quantidade_recomendacoes</th>\n",
       "      <th>aeronaves_envolvidas</th>\n",
       "      <th>saida_pista</th>\n",
       "      <th>dia_extracao</th>\n",
       "    </tr>\n",
       "  </thead>\n",
       "  <tbody>\n",
       "    <tr>\n",
       "      <th>0</th>\n",
       "      <td>47965</td>\n",
       "      <td>ACIDENTE</td>\n",
       "      <td>FALHA DO MOTOR EM VOO</td>\n",
       "      <td>ARIQUEMES</td>\n",
       "      <td>RO</td>\n",
       "      <td>BRASIL</td>\n",
       "      <td>SJOG</td>\n",
       "      <td>2013-05-05</td>\n",
       "      <td>11:00:00</td>\n",
       "      <td>***</td>\n",
       "      <td>SERIPA-7</td>\n",
       "      <td>NaN</td>\n",
       "      <td>NaN</td>\n",
       "      <td>NaN</td>\n",
       "      <td>NaN</td>\n",
       "      <td>0</td>\n",
       "      <td>1</td>\n",
       "      <td>NaN</td>\n",
       "      <td>2016-07-30</td>\n",
       "    </tr>\n",
       "    <tr>\n",
       "      <th>1</th>\n",
       "      <td>50313</td>\n",
       "      <td>INCIDENTE GRAVE</td>\n",
       "      <td>POUSO SEM TREM</td>\n",
       "      <td>CACOAL</td>\n",
       "      <td>RO</td>\n",
       "      <td>BRASIL</td>\n",
       "      <td>SSKW</td>\n",
       "      <td>2013-11-25</td>\n",
       "      <td>12:32:00</td>\n",
       "      <td>SIM</td>\n",
       "      <td>SERIPA-7</td>\n",
       "      <td>FINALIZADA</td>\n",
       "      <td>IG-209/CENIPA/2013</td>\n",
       "      <td>1.0</td>\n",
       "      <td>2014-04-07</td>\n",
       "      <td>0</td>\n",
       "      <td>1</td>\n",
       "      <td>NaN</td>\n",
       "      <td>2016-07-30</td>\n",
       "    </tr>\n",
       "    <tr>\n",
       "      <th>2</th>\n",
       "      <td>34078</td>\n",
       "      <td>ACIDENTE</td>\n",
       "      <td>PERDA DE CONTROLE NO SOLO</td>\n",
       "      <td>CEREJEIRAS</td>\n",
       "      <td>RO</td>\n",
       "      <td>BRASIL</td>\n",
       "      <td>****</td>\n",
       "      <td>2008-08-07</td>\n",
       "      <td>15:10:00</td>\n",
       "      <td>SIM</td>\n",
       "      <td>SERIPA-7</td>\n",
       "      <td>FINALIZADA</td>\n",
       "      <td>A - 517/CENIPA/2016</td>\n",
       "      <td>1.0</td>\n",
       "      <td>2016-07-07</td>\n",
       "      <td>0</td>\n",
       "      <td>1</td>\n",
       "      <td>1.0</td>\n",
       "      <td>2016-07-30</td>\n",
       "    </tr>\n",
       "    <tr>\n",
       "      <th>3</th>\n",
       "      <td>44988</td>\n",
       "      <td>ACIDENTE</td>\n",
       "      <td>POUSO LONGO</td>\n",
       "      <td>AMAJARI</td>\n",
       "      <td>RR</td>\n",
       "      <td>BRASIL</td>\n",
       "      <td>****</td>\n",
       "      <td>2011-08-11</td>\n",
       "      <td>17:00:00</td>\n",
       "      <td>SIM</td>\n",
       "      <td>SERIPA-7</td>\n",
       "      <td>FINALIZADA</td>\n",
       "      <td>A-105/CENIPA/2012</td>\n",
       "      <td>1.0</td>\n",
       "      <td>2012-09-20</td>\n",
       "      <td>4</td>\n",
       "      <td>1</td>\n",
       "      <td>NaN</td>\n",
       "      <td>2016-07-30</td>\n",
       "    </tr>\n",
       "    <tr>\n",
       "      <th>4</th>\n",
       "      <td>38855</td>\n",
       "      <td>ACIDENTE</td>\n",
       "      <td>PERDA DE CONTROLE EM VOO</td>\n",
       "      <td>ACEGUÁ</td>\n",
       "      <td>RS</td>\n",
       "      <td>BRASIL</td>\n",
       "      <td>****</td>\n",
       "      <td>2009-12-28</td>\n",
       "      <td>17:30:00</td>\n",
       "      <td>SIM</td>\n",
       "      <td>SERIPA-5</td>\n",
       "      <td>ATIVA</td>\n",
       "      <td>A DEFINIR</td>\n",
       "      <td>NaN</td>\n",
       "      <td>NaN</td>\n",
       "      <td>0</td>\n",
       "      <td>1</td>\n",
       "      <td>NaN</td>\n",
       "      <td>2016-07-30</td>\n",
       "    </tr>\n",
       "  </tbody>\n",
       "</table>\n",
       "</div>"
      ],
      "text/plain": [
       "   codigo_ocorrencia    classificacao                       tipo  localidade  \\\n",
       "0              47965         ACIDENTE      FALHA DO MOTOR EM VOO   ARIQUEMES   \n",
       "1              50313  INCIDENTE GRAVE             POUSO SEM TREM      CACOAL   \n",
       "2              34078         ACIDENTE  PERDA DE CONTROLE NO SOLO  CEREJEIRAS   \n",
       "3              44988         ACIDENTE                POUSO LONGO     AMAJARI   \n",
       "4              38855         ACIDENTE   PERDA DE CONTROLE EM VOO      ACEGUÁ   \n",
       "\n",
       "   uf    pais aerodromo dia_ocorrencia   horario sera_investigada  \\\n",
       "0  RO  BRASIL      SJOG     2013-05-05  11:00:00              ***   \n",
       "1  RO  BRASIL      SSKW     2013-11-25  12:32:00              SIM   \n",
       "2  RO  BRASIL      ****     2008-08-07  15:10:00              SIM   \n",
       "3  RR  BRASIL      ****     2011-08-11  17:00:00              SIM   \n",
       "4  RS  BRASIL      ****     2009-12-28  17:30:00              SIM   \n",
       "\n",
       "  comando_investigador status_investigacao     numero_relatorio  \\\n",
       "0             SERIPA-7                 NaN                  NaN   \n",
       "1             SERIPA-7          FINALIZADA   IG-209/CENIPA/2013   \n",
       "2             SERIPA-7          FINALIZADA  A - 517/CENIPA/2016   \n",
       "3             SERIPA-7          FINALIZADA    A-105/CENIPA/2012   \n",
       "4             SERIPA-5               ATIVA            A DEFINIR   \n",
       "\n",
       "   relatorio_publicado dia_publicacao  quantidade_recomendacoes  \\\n",
       "0                  NaN            NaN                         0   \n",
       "1                  1.0     2014-04-07                         0   \n",
       "2                  1.0     2016-07-07                         0   \n",
       "3                  1.0     2012-09-20                         4   \n",
       "4                  NaN            NaN                         0   \n",
       "\n",
       "   aeronaves_envolvidas  saida_pista dia_extracao  \n",
       "0                     1          NaN   2016-07-30  \n",
       "1                     1          NaN   2016-07-30  \n",
       "2                     1          1.0   2016-07-30  \n",
       "3                     1          NaN   2016-07-30  \n",
       "4                     1          NaN   2016-07-30  "
      ]
     },
     "execution_count": 17,
     "metadata": {},
     "output_type": "execute_result"
    }
   ],
   "source": [
    "ocorrencia.head()"
   ]
  },
  {
   "cell_type": "code",
   "execution_count": 20,
   "metadata": {},
   "outputs": [
    {
     "data": {
      "text/plain": [
       "codigo_ocorrencia             int64\n",
       "classificacao                object\n",
       "tipo                         object\n",
       "localidade                   object\n",
       "uf                           object\n",
       "pais                         object\n",
       "aerodromo                    object\n",
       "dia_ocorrencia               object\n",
       "horario                      object\n",
       "sera_investigada             object\n",
       "comando_investigador         object\n",
       "status_investigacao          object\n",
       "numero_relatorio             object\n",
       "relatorio_publicado         float64\n",
       "dia_publicacao               object\n",
       "quantidade_recomendacoes      int64\n",
       "aeronaves_envolvidas          int64\n",
       "saida_pista                 float64\n",
       "dia_extracao                 object\n",
       "dtype: object"
      ]
     },
     "execution_count": 20,
     "metadata": {},
     "output_type": "execute_result"
    }
   ],
   "source": [
    "ocorrencia.dtypes"
   ]
  },
  {
   "cell_type": "code",
   "execution_count": null,
   "metadata": {
    "collapsed": true
   },
   "outputs": [],
   "source": []
  }
 ],
 "metadata": {
  "kernelspec": {
   "display_name": "Python 3",
   "language": "python",
   "name": "python3"
  },
  "language_info": {
   "codemirror_mode": {
    "name": "ipython",
    "version": 3
   },
   "file_extension": ".py",
   "mimetype": "text/x-python",
   "name": "python",
   "nbconvert_exporter": "python",
   "pygments_lexer": "ipython3",
   "version": "3.6.4"
  }
 },
 "nbformat": 4,
 "nbformat_minor": 2
}
