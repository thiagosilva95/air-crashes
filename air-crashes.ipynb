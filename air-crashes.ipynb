{
 "cells": [
  {
   "cell_type": "markdown",
   "metadata": {},
   "source": [
    "<h1>Um estudo sobre acidentes aéreos</h1>"
   ]
  },
  {
   "cell_type": "markdown",
   "metadata": {},
   "source": [
    "<h1>Perguntas a serem respondidas</h1>\n",
    "\n",
    "Dentre outros <i>insights</i> gerados através deste estudo, quero responder as seguintes perguntas:\n",
    "<br>\n",
    "<br>\n",
    "<li>Quais são as maiores causas de ocorrências e, eventualmente, queda de aviões?</li>\n",
    "<li>Como tem sido a progressão desses casos nos últimos anos? Tiveram menos ocorrências ou mais?</li>\n",
    "<li>Quais os estados que mais possuem ocorrências registradas?</li>\n",
    "<li>Qual tipo de aeronave possui mais problemas? Aviões, jatos, planadores? </li>\n",
    "<li>Quais as fabricantes com maior número de defeitos registrados?</li>\n",
    "<li>Será que durante o pouso é mais comum ter problemas do que durante a decolagem? Ou durante a viagem em si é mais frequente surgir defeitos?</li>\n",
    "<li>Viagens comerciais regulares tendem a ter mais problemas do que voos fretados?</li>\n",
    "<li>Quantos incidentes com fatalidades (morte de passageiros e tripulação) temos registro nos últimos 10 anos?</li>"
   ]
  },
  {
   "cell_type": "markdown",
   "metadata": {},
   "source": [
    "<h2>Importando bibliotecas</h2>"
   ]
  },
  {
   "cell_type": "code",
   "execution_count": 2,
   "metadata": {
    "collapsed": true
   },
   "outputs": [],
   "source": [
    "%matplotlib inline\n",
    "import pandas as pd\n",
    "import matplotlib.pyplot as plt\n",
    "import random"
   ]
  },
  {
   "cell_type": "markdown",
   "metadata": {},
   "source": [
    "<h2>Leitura dos Datasets</h2>"
   ]
  },
  {
   "cell_type": "code",
   "execution_count": 3,
   "metadata": {
    "collapsed": true
   },
   "outputs": [],
   "source": [
    "ocorrencia = pd.read_csv('./dataset/ocorrencia.csv')\n",
    "aeronave = pd.read_csv('./dataset/aeronave.csv')"
   ]
  },
  {
   "cell_type": "code",
   "execution_count": 4,
   "metadata": {},
   "outputs": [
    {
     "name": "stdout",
     "output_type": "stream",
     "text": [
      "O arquivo \"ocorrencia.csv\" 2027 linhas e 19 colunas\n"
     ]
    }
   ],
   "source": [
    "print('O arquivo \\\"ocorrencia.csv\\\" ' + str(ocorrencia.shape[0]) + ' linhas e ' + str(ocorrencia.shape[1]) + ' colunas')"
   ]
  },
  {
   "cell_type": "code",
   "execution_count": 5,
   "metadata": {},
   "outputs": [
    {
     "name": "stdout",
     "output_type": "stream",
     "text": [
      "O arquivo \"aeronave.csv\" 2043 linhas e 22 colunas\n"
     ]
    }
   ],
   "source": [
    "print('O arquivo \\\"aeronave.csv\\\" ' + str(aeronave.shape[0]) + ' linhas e ' +str(aeronave.shape[1]) + ' colunas')"
   ]
  },
  {
   "cell_type": "markdown",
   "metadata": {},
   "source": [
    "<h2>Limpeza de Dados</h2>"
   ]
  },
  {
   "cell_type": "code",
   "execution_count": 6,
   "metadata": {},
   "outputs": [
    {
     "data": {
      "text/html": [
       "<div>\n",
       "<style scoped>\n",
       "    .dataframe tbody tr th:only-of-type {\n",
       "        vertical-align: middle;\n",
       "    }\n",
       "\n",
       "    .dataframe tbody tr th {\n",
       "        vertical-align: top;\n",
       "    }\n",
       "\n",
       "    .dataframe thead th {\n",
       "        text-align: right;\n",
       "    }\n",
       "</style>\n",
       "<table border=\"1\" class=\"dataframe\">\n",
       "  <thead>\n",
       "    <tr style=\"text-align: right;\">\n",
       "      <th></th>\n",
       "      <th>codigo_ocorrencia</th>\n",
       "      <th>classificacao</th>\n",
       "      <th>tipo</th>\n",
       "      <th>localidade</th>\n",
       "      <th>uf</th>\n",
       "      <th>pais</th>\n",
       "      <th>aerodromo</th>\n",
       "      <th>dia_ocorrencia</th>\n",
       "      <th>horario</th>\n",
       "      <th>sera_investigada</th>\n",
       "      <th>comando_investigador</th>\n",
       "      <th>status_investigacao</th>\n",
       "      <th>numero_relatorio</th>\n",
       "      <th>relatorio_publicado</th>\n",
       "      <th>dia_publicacao</th>\n",
       "      <th>quantidade_recomendacoes</th>\n",
       "      <th>aeronaves_envolvidas</th>\n",
       "      <th>saida_pista</th>\n",
       "      <th>dia_extracao</th>\n",
       "    </tr>\n",
       "  </thead>\n",
       "  <tbody>\n",
       "    <tr>\n",
       "      <th>0</th>\n",
       "      <td>47965</td>\n",
       "      <td>ACIDENTE</td>\n",
       "      <td>FALHA DO MOTOR EM VOO</td>\n",
       "      <td>ARIQUEMES</td>\n",
       "      <td>RO</td>\n",
       "      <td>BRASIL</td>\n",
       "      <td>SJOG</td>\n",
       "      <td>2013-05-05</td>\n",
       "      <td>11:00:00</td>\n",
       "      <td>***</td>\n",
       "      <td>SERIPA-7</td>\n",
       "      <td>NaN</td>\n",
       "      <td>NaN</td>\n",
       "      <td>NaN</td>\n",
       "      <td>NaN</td>\n",
       "      <td>0</td>\n",
       "      <td>1</td>\n",
       "      <td>NaN</td>\n",
       "      <td>2016-07-30</td>\n",
       "    </tr>\n",
       "    <tr>\n",
       "      <th>1</th>\n",
       "      <td>50313</td>\n",
       "      <td>INCIDENTE GRAVE</td>\n",
       "      <td>POUSO SEM TREM</td>\n",
       "      <td>CACOAL</td>\n",
       "      <td>RO</td>\n",
       "      <td>BRASIL</td>\n",
       "      <td>SSKW</td>\n",
       "      <td>2013-11-25</td>\n",
       "      <td>12:32:00</td>\n",
       "      <td>SIM</td>\n",
       "      <td>SERIPA-7</td>\n",
       "      <td>FINALIZADA</td>\n",
       "      <td>IG-209/CENIPA/2013</td>\n",
       "      <td>1.0</td>\n",
       "      <td>2014-04-07</td>\n",
       "      <td>0</td>\n",
       "      <td>1</td>\n",
       "      <td>NaN</td>\n",
       "      <td>2016-07-30</td>\n",
       "    </tr>\n",
       "    <tr>\n",
       "      <th>2</th>\n",
       "      <td>34078</td>\n",
       "      <td>ACIDENTE</td>\n",
       "      <td>PERDA DE CONTROLE NO SOLO</td>\n",
       "      <td>CEREJEIRAS</td>\n",
       "      <td>RO</td>\n",
       "      <td>BRASIL</td>\n",
       "      <td>****</td>\n",
       "      <td>2008-08-07</td>\n",
       "      <td>15:10:00</td>\n",
       "      <td>SIM</td>\n",
       "      <td>SERIPA-7</td>\n",
       "      <td>FINALIZADA</td>\n",
       "      <td>A - 517/CENIPA/2016</td>\n",
       "      <td>1.0</td>\n",
       "      <td>2016-07-07</td>\n",
       "      <td>0</td>\n",
       "      <td>1</td>\n",
       "      <td>1.0</td>\n",
       "      <td>2016-07-30</td>\n",
       "    </tr>\n",
       "    <tr>\n",
       "      <th>3</th>\n",
       "      <td>44988</td>\n",
       "      <td>ACIDENTE</td>\n",
       "      <td>POUSO LONGO</td>\n",
       "      <td>AMAJARI</td>\n",
       "      <td>RR</td>\n",
       "      <td>BRASIL</td>\n",
       "      <td>****</td>\n",
       "      <td>2011-08-11</td>\n",
       "      <td>17:00:00</td>\n",
       "      <td>SIM</td>\n",
       "      <td>SERIPA-7</td>\n",
       "      <td>FINALIZADA</td>\n",
       "      <td>A-105/CENIPA/2012</td>\n",
       "      <td>1.0</td>\n",
       "      <td>2012-09-20</td>\n",
       "      <td>4</td>\n",
       "      <td>1</td>\n",
       "      <td>NaN</td>\n",
       "      <td>2016-07-30</td>\n",
       "    </tr>\n",
       "    <tr>\n",
       "      <th>4</th>\n",
       "      <td>38855</td>\n",
       "      <td>ACIDENTE</td>\n",
       "      <td>PERDA DE CONTROLE EM VOO</td>\n",
       "      <td>ACEGUÁ</td>\n",
       "      <td>RS</td>\n",
       "      <td>BRASIL</td>\n",
       "      <td>****</td>\n",
       "      <td>2009-12-28</td>\n",
       "      <td>17:30:00</td>\n",
       "      <td>SIM</td>\n",
       "      <td>SERIPA-5</td>\n",
       "      <td>ATIVA</td>\n",
       "      <td>A DEFINIR</td>\n",
       "      <td>NaN</td>\n",
       "      <td>NaN</td>\n",
       "      <td>0</td>\n",
       "      <td>1</td>\n",
       "      <td>NaN</td>\n",
       "      <td>2016-07-30</td>\n",
       "    </tr>\n",
       "  </tbody>\n",
       "</table>\n",
       "</div>"
      ],
      "text/plain": [
       "   codigo_ocorrencia    classificacao                       tipo  localidade  \\\n",
       "0              47965         ACIDENTE      FALHA DO MOTOR EM VOO   ARIQUEMES   \n",
       "1              50313  INCIDENTE GRAVE             POUSO SEM TREM      CACOAL   \n",
       "2              34078         ACIDENTE  PERDA DE CONTROLE NO SOLO  CEREJEIRAS   \n",
       "3              44988         ACIDENTE                POUSO LONGO     AMAJARI   \n",
       "4              38855         ACIDENTE   PERDA DE CONTROLE EM VOO      ACEGUÁ   \n",
       "\n",
       "   uf    pais aerodromo dia_ocorrencia   horario sera_investigada  \\\n",
       "0  RO  BRASIL      SJOG     2013-05-05  11:00:00              ***   \n",
       "1  RO  BRASIL      SSKW     2013-11-25  12:32:00              SIM   \n",
       "2  RO  BRASIL      ****     2008-08-07  15:10:00              SIM   \n",
       "3  RR  BRASIL      ****     2011-08-11  17:00:00              SIM   \n",
       "4  RS  BRASIL      ****     2009-12-28  17:30:00              SIM   \n",
       "\n",
       "  comando_investigador status_investigacao     numero_relatorio  \\\n",
       "0             SERIPA-7                 NaN                  NaN   \n",
       "1             SERIPA-7          FINALIZADA   IG-209/CENIPA/2013   \n",
       "2             SERIPA-7          FINALIZADA  A - 517/CENIPA/2016   \n",
       "3             SERIPA-7          FINALIZADA    A-105/CENIPA/2012   \n",
       "4             SERIPA-5               ATIVA            A DEFINIR   \n",
       "\n",
       "   relatorio_publicado dia_publicacao  quantidade_recomendacoes  \\\n",
       "0                  NaN            NaN                         0   \n",
       "1                  1.0     2014-04-07                         0   \n",
       "2                  1.0     2016-07-07                         0   \n",
       "3                  1.0     2012-09-20                         4   \n",
       "4                  NaN            NaN                         0   \n",
       "\n",
       "   aeronaves_envolvidas  saida_pista dia_extracao  \n",
       "0                     1          NaN   2016-07-30  \n",
       "1                     1          NaN   2016-07-30  \n",
       "2                     1          1.0   2016-07-30  \n",
       "3                     1          NaN   2016-07-30  \n",
       "4                     1          NaN   2016-07-30  "
      ]
     },
     "execution_count": 6,
     "metadata": {},
     "output_type": "execute_result"
    }
   ],
   "source": [
    "ocorrencia.head()"
   ]
  },
  {
   "cell_type": "code",
   "execution_count": 7,
   "metadata": {},
   "outputs": [
    {
     "data": {
      "text/plain": [
       "codigo_ocorrencia             int64\n",
       "classificacao                object\n",
       "tipo                         object\n",
       "localidade                   object\n",
       "uf                           object\n",
       "pais                         object\n",
       "aerodromo                    object\n",
       "dia_ocorrencia               object\n",
       "horario                      object\n",
       "sera_investigada             object\n",
       "comando_investigador         object\n",
       "status_investigacao          object\n",
       "numero_relatorio             object\n",
       "relatorio_publicado         float64\n",
       "dia_publicacao               object\n",
       "quantidade_recomendacoes      int64\n",
       "aeronaves_envolvidas          int64\n",
       "saida_pista                 float64\n",
       "dia_extracao                 object\n",
       "dtype: object"
      ]
     },
     "execution_count": 7,
     "metadata": {},
     "output_type": "execute_result"
    }
   ],
   "source": [
    "ocorrencia.dtypes"
   ]
  },
  {
   "cell_type": "code",
   "execution_count": 8,
   "metadata": {},
   "outputs": [
    {
     "data": {
      "text/plain": [
       "Index(['codigo_ocorrencia', 'classificacao', 'tipo', 'localidade', 'uf',\n",
       "       'pais', 'aerodromo', 'dia_ocorrencia', 'horario', 'sera_investigada',\n",
       "       'comando_investigador', 'status_investigacao', 'numero_relatorio',\n",
       "       'relatorio_publicado', 'dia_publicacao', 'quantidade_recomendacoes',\n",
       "       'aeronaves_envolvidas', 'saida_pista', 'dia_extracao'],\n",
       "      dtype='object')"
      ]
     },
     "execution_count": 8,
     "metadata": {},
     "output_type": "execute_result"
    }
   ],
   "source": [
    "ocorrencia.columns"
   ]
  },
  {
   "cell_type": "code",
   "execution_count": 9,
   "metadata": {
    "collapsed": true
   },
   "outputs": [],
   "source": [
    "# Retirando colunas que não serão usadas\n",
    "ocorrencia.drop(['aerodromo', 'horario', 'sera_investigada', 'comando_investigador', \n",
    "                 'relatorio_publicado', 'dia_publicacao', 'quantidade_recomendacoes',\n",
    "                 'aeronaves_envolvidas', 'saida_pista', 'dia_extracao', 'numero_relatorio'], axis = 1, inplace = True)"
   ]
  },
  {
   "cell_type": "code",
   "execution_count": 28,
   "metadata": {},
   "outputs": [],
   "source": [
    "# Renomeando colunas do dataset ocorrencia.csv\n",
    "ocorrencia.columns = ['CÓDIGO DA OCORRÊNCIA', 'CLASSIFICAÇÃO', 'TIPO DE OCORRÊNCIA', 'LOCALIDADE', \n",
    "                      'UF', 'PAÍS', 'DIA DA OCORRÊNCIA', 'STATUS DA INVESTIGAÇÃO']\n",
    "\n",
    "ocorrencia['CONTAGEM'] = 1"
   ]
  },
  {
   "cell_type": "code",
   "execution_count": 14,
   "metadata": {},
   "outputs": [],
   "source": [
    "# Derrubando colunas onde o código da ocorrência é inválido\n",
    "ocorrencia.dropna(axis = 0, inplace = True)"
   ]
  },
  {
   "cell_type": "code",
   "execution_count": 29,
   "metadata": {},
   "outputs": [
    {
     "data": {
      "text/html": [
       "<div>\n",
       "<style scoped>\n",
       "    .dataframe tbody tr th:only-of-type {\n",
       "        vertical-align: middle;\n",
       "    }\n",
       "\n",
       "    .dataframe tbody tr th {\n",
       "        vertical-align: top;\n",
       "    }\n",
       "\n",
       "    .dataframe thead th {\n",
       "        text-align: right;\n",
       "    }\n",
       "</style>\n",
       "<table border=\"1\" class=\"dataframe\">\n",
       "  <thead>\n",
       "    <tr style=\"text-align: right;\">\n",
       "      <th></th>\n",
       "      <th>CÓDIGO DA OCORRÊNCIA</th>\n",
       "      <th>CLASSIFICAÇÃO</th>\n",
       "      <th>TIPO DE OCORRÊNCIA</th>\n",
       "      <th>LOCALIDADE</th>\n",
       "      <th>UF</th>\n",
       "      <th>PAÍS</th>\n",
       "      <th>DIA DA OCORRÊNCIA</th>\n",
       "      <th>STATUS DA INVESTIGAÇÃO</th>\n",
       "      <th>CONTAGEM</th>\n",
       "    </tr>\n",
       "  </thead>\n",
       "  <tbody>\n",
       "    <tr>\n",
       "      <th>1</th>\n",
       "      <td>50313</td>\n",
       "      <td>INCIDENTE GRAVE</td>\n",
       "      <td>POUSO SEM TREM</td>\n",
       "      <td>CACOAL</td>\n",
       "      <td>RO</td>\n",
       "      <td>BRASIL</td>\n",
       "      <td>2013-11-25</td>\n",
       "      <td>FINALIZADA</td>\n",
       "      <td>1</td>\n",
       "    </tr>\n",
       "    <tr>\n",
       "      <th>2</th>\n",
       "      <td>34078</td>\n",
       "      <td>ACIDENTE</td>\n",
       "      <td>PERDA DE CONTROLE NO SOLO</td>\n",
       "      <td>CEREJEIRAS</td>\n",
       "      <td>RO</td>\n",
       "      <td>BRASIL</td>\n",
       "      <td>2008-08-07</td>\n",
       "      <td>FINALIZADA</td>\n",
       "      <td>1</td>\n",
       "    </tr>\n",
       "    <tr>\n",
       "      <th>3</th>\n",
       "      <td>44988</td>\n",
       "      <td>ACIDENTE</td>\n",
       "      <td>POUSO LONGO</td>\n",
       "      <td>AMAJARI</td>\n",
       "      <td>RR</td>\n",
       "      <td>BRASIL</td>\n",
       "      <td>2011-08-11</td>\n",
       "      <td>FINALIZADA</td>\n",
       "      <td>1</td>\n",
       "    </tr>\n",
       "    <tr>\n",
       "      <th>4</th>\n",
       "      <td>38855</td>\n",
       "      <td>ACIDENTE</td>\n",
       "      <td>PERDA DE CONTROLE EM VOO</td>\n",
       "      <td>ACEGUÁ</td>\n",
       "      <td>RS</td>\n",
       "      <td>BRASIL</td>\n",
       "      <td>2009-12-28</td>\n",
       "      <td>ATIVA</td>\n",
       "      <td>1</td>\n",
       "    </tr>\n",
       "    <tr>\n",
       "      <th>6</th>\n",
       "      <td>43063</td>\n",
       "      <td>ACIDENTE</td>\n",
       "      <td>PERDA DE CONTROLE EM VOO</td>\n",
       "      <td>ALTO ALEGRE</td>\n",
       "      <td>RR</td>\n",
       "      <td>BRASIL</td>\n",
       "      <td>2010-09-21</td>\n",
       "      <td>FINALIZADA</td>\n",
       "      <td>1</td>\n",
       "    </tr>\n",
       "  </tbody>\n",
       "</table>\n",
       "</div>"
      ],
      "text/plain": [
       "   CÓDIGO DA OCORRÊNCIA    CLASSIFICAÇÃO         TIPO DE OCORRÊNCIA  \\\n",
       "1                 50313  INCIDENTE GRAVE             POUSO SEM TREM   \n",
       "2                 34078         ACIDENTE  PERDA DE CONTROLE NO SOLO   \n",
       "3                 44988         ACIDENTE                POUSO LONGO   \n",
       "4                 38855         ACIDENTE   PERDA DE CONTROLE EM VOO   \n",
       "6                 43063         ACIDENTE   PERDA DE CONTROLE EM VOO   \n",
       "\n",
       "    LOCALIDADE  UF    PAÍS DIA DA OCORRÊNCIA STATUS DA INVESTIGAÇÃO  CONTAGEM  \n",
       "1       CACOAL  RO  BRASIL        2013-11-25             FINALIZADA         1  \n",
       "2   CEREJEIRAS  RO  BRASIL        2008-08-07             FINALIZADA         1  \n",
       "3      AMAJARI  RR  BRASIL        2011-08-11             FINALIZADA         1  \n",
       "4       ACEGUÁ  RS  BRASIL        2009-12-28                  ATIVA         1  \n",
       "6  ALTO ALEGRE  RR  BRASIL        2010-09-21             FINALIZADA         1  "
      ]
     },
     "execution_count": 29,
     "metadata": {},
     "output_type": "execute_result"
    }
   ],
   "source": [
    "ocorrencia.head()"
   ]
  },
  {
   "cell_type": "markdown",
   "metadata": {},
   "source": [
    "<h2>Visualisação de Dados (Data Visualization)</h2>"
   ]
  },
  {
   "cell_type": "code",
   "execution_count": 32,
   "metadata": {
    "collapsed": true
   },
   "outputs": [],
   "source": [
    "#Cores para serem usadas nos gráficos\n",
    "colors = [['#0D47A1','#1565C0','#1976D2','#1E88E5','#2196F3'],\n",
    "          ['#311B92','#512DA8','#673AB7','#9575CD','#B39DDB'],\n",
    "          ['#1B5E20','#388E3C','#4CAF50','#81C784','#66BB6A'],\n",
    "          ['#E65100','#EF6C00','#F57C00','#FB8C00','#FF9800'],\n",
    "          ['#3E2723','#4E342E','#5D4037','#6D4C41','#795548'],\n",
    "          ['#BF360C','#D84315','#E64A19','#F4511E','#FF5722'],\n",
    "          ['#880E4F','#AD1457','#C2185B','#D81B60','#E91E63']\n",
    "         ]"
   ]
  },
  {
   "cell_type": "markdown",
   "metadata": {},
   "source": [
    "Como é classificada uma ocorrência? Como se divide o total geral nestas categorias?"
   ]
  },
  {
   "cell_type": "code",
   "execution_count": 33,
   "metadata": {},
   "outputs": [
    {
     "data": {
      "text/plain": [
       "<function matplotlib.pyplot.show>"
      ]
     },
     "execution_count": 33,
     "metadata": {},
     "output_type": "execute_result"
    },
    {
     "data": {
      "image/png": "[encoded data removed]",
      "text/plain": [
       "<matplotlib.figure.Figure at 0x1cdb1044f28>"
      ]
     },
     "metadata": {},
     "output_type": "display_data"
    }
   ],
   "source": [
    "classificacao = ocorrencia.groupby('CLASSIFICAÇÃO')['CONTAGEM'].sum().plot(kind = 'bar', figsize = (10, 5), color = random.choice(colors), alpha = .7)\n",
    "\n",
    "for p in classificacao.patches : \n",
    "    b = p.get_bbox()\n",
    "    classificacao.annotate(\"{:.0f}\".format(b.y1 + b.y0), ((b.x0 + b.x1)/2 - 0.03, b.y1 + 15))\n",
    "\n",
    "plt.xticks(rotation = 0)\n",
    "plt.xlabel('CLASSIFICAÇÃO DA OCORRÊNCIA')\n",
    "plt.ylabel('QUANTIDADE')\n",
    "plt.title('QUANTIDADE DE OCORRÊNCIAS POR CLASSIFICAÇÃO \\n Total: ' + str(ocorrencia['CONTAGEM'].sum()) + ' ocorrências')\n",
    "plt.show"
   ]
  },
  {
   "cell_type": "markdown",
   "metadata": {},
   "source": [
    "Quais os tipos de ocorrências que existem e qual foi sua frequência nestes últimos anos?"
   ]
  },
  {
   "cell_type": "code",
   "execution_count": 34,
   "metadata": {},
   "outputs": [
    {
     "data": {
      "image/png": "[encoded data removed]",
      "text/plain": [
       "<matplotlib.figure.Figure at 0x1cdb115e208>"
      ]
     },
     "metadata": {},
     "output_type": "display_data"
    }
   ],
   "source": [
    "ax = ocorrencia.groupby('TIPO DE OCORRÊNCIA')['CONTAGEM'].sum().sort_values().plot(kind = 'barh', color = random.choice(colors), figsize = (10, 10))\n",
    "\n",
    "for p in ax.patches :\n",
    "    b = p.get_bbox()\n",
    "    ax.annotate(\"{:.0f}\".format(b.x1 + b.x0), (p.get_x() + p.get_width() + 1, p.get_y() - 0.05))\n",
    "    \n",
    "plt.title('QUANTIDADE DE OCORRÊNCIAS AGRUPADAS POR TIPO \\n Total: ' + str(ocorrencia['CONTAGEM'].sum()) + ' ocorrências')\n",
    "plt.ylabel('TIPO DE OCORRÊNCIA')\n",
    "plt.xlabel('QUANTIDADE DE OCORRÊNCIA')\n",
    "plt.show()"
   ]
  },
  {
   "cell_type": "markdown",
   "metadata": {},
   "source": [
    "Como tem sido a progressão desses últimos anos? Tiveram menos ocorrências ou mais?"
   ]
  },
  {
   "cell_type": "code",
   "execution_count": 38,
   "metadata": {},
   "outputs": [
    {
     "data": {
      "image/png": "[encoded data removed]",
      "text/plain": [
       "<matplotlib.figure.Figure at 0x1cdb0f11208>"
      ]
     },
     "metadata": {},
     "output_type": "display_data"
    }
   ],
   "source": [
    "plotagem_dataplotagem_  = ocorrencia.copy()\n",
    "plotagem_data['DIA DA OCORRÊNCIA'] = plotagem_data['DIA DA OCORRÊNCIA'].apply(lambda x: x.replace(x,x[0:4]))\n",
    "plotagem_data.groupby('DIA DA OCORRÊNCIA')['CONTAGEM'].sum().plot(color='purple', figsize=(12,5), grid=True)\n",
    "\n",
    "plt.title('QUANTIDADE DE OCORRÊNCIA AO LONGO DOS ANOS \\n Total: ' + str(ocorrencia['CONTAGEM'].sum()) + ' ocorrências')\n",
    "plt.xlabel('ANO REFERÊNCIA')\n",
    "plt.ylabel('QUANTIDADE DE OCORRÊNCIAS')\n",
    "plt.show()"
   ]
  },
  {
   "cell_type": "markdown",
   "metadata": {},
   "source": [
    "E quanto aos estados? Quais foram os que mais registraram ocorrências?"
   ]
  },
  {
   "cell_type": "code",
   "execution_count": 39,
   "metadata": {},
   "outputs": [
    {
     "data": {
      "image/png": "[encoded data removed]",
      "text/plain": [
       "<matplotlib.figure.Figure at 0x1cdb118a4a8>"
      ]
     },
     "metadata": {},
     "output_type": "display_data"
    }
   ],
   "source": [
    "ax_estado = ocorrencia.groupby('UF')['CONTAGEM'].sum().plot(kind = 'bar', color = random.choice(colors), figsize = (11, 5))\n",
    "\n",
    "plt.xlabel('ESTADO')\n",
    "plt.ylabel('QUANTIDADE DE OCORRÊNCIAS')\n",
    "plt.title('QUANTIDADE DE OCORRÊNCIAS POR ESTADO\\nTotal:' + str(ocorrencia['CONTAGEM'].sum()) + ' ocorrências')\n",
    "plt.xticks(rotation = 0)\n",
    "plt.show()"
   ]
  },
  {
   "cell_type": "code",
   "execution_count": 40,
   "metadata": {},
   "outputs": [
    {
     "data": {
      "text/html": [
       "<div>\n",
       "<style scoped>\n",
       "    .dataframe tbody tr th:only-of-type {\n",
       "        vertical-align: middle;\n",
       "    }\n",
       "\n",
       "    .dataframe tbody tr th {\n",
       "        vertical-align: top;\n",
       "    }\n",
       "\n",
       "    .dataframe thead th {\n",
       "        text-align: right;\n",
       "    }\n",
       "</style>\n",
       "<table border=\"1\" class=\"dataframe\">\n",
       "  <thead>\n",
       "    <tr style=\"text-align: right;\">\n",
       "      <th></th>\n",
       "      <th>CÓDIGO DA OCORRÊNCIA</th>\n",
       "      <th>CLASSIFICAÇÃO</th>\n",
       "      <th>TIPO DE OCORRÊNCIA</th>\n",
       "      <th>LOCALIDADE</th>\n",
       "      <th>UF</th>\n",
       "      <th>PAÍS</th>\n",
       "      <th>DIA DA OCORRÊNCIA</th>\n",
       "      <th>STATUS DA INVESTIGAÇÃO</th>\n",
       "      <th>CONTAGEM</th>\n",
       "    </tr>\n",
       "  </thead>\n",
       "  <tbody>\n",
       "    <tr>\n",
       "      <th>2006</th>\n",
       "      <td>53112</td>\n",
       "      <td>ACIDENTE</td>\n",
       "      <td>OUTROS TIPOS</td>\n",
       "      <td>NÃO IDENTIFICADA</td>\n",
       "      <td>***</td>\n",
       "      <td>BRASIL</td>\n",
       "      <td>2015-03-06</td>\n",
       "      <td>ATIVA</td>\n",
       "      <td>1</td>\n",
       "    </tr>\n",
       "    <tr>\n",
       "      <th>2025</th>\n",
       "      <td>49474</td>\n",
       "      <td>ACIDENTE</td>\n",
       "      <td>CAUSADO POR FENÔMENO METEOROLÓGICO EM VOO</td>\n",
       "      <td>ÁGUAS INTERNACIONAIS</td>\n",
       "      <td>***</td>\n",
       "      <td>BRASIL</td>\n",
       "      <td>2013-09-01</td>\n",
       "      <td>ATIVA</td>\n",
       "      <td>1</td>\n",
       "    </tr>\n",
       "  </tbody>\n",
       "</table>\n",
       "</div>"
      ],
      "text/plain": [
       "      CÓDIGO DA OCORRÊNCIA CLASSIFICAÇÃO  \\\n",
       "2006                 53112      ACIDENTE   \n",
       "2025                 49474      ACIDENTE   \n",
       "\n",
       "                             TIPO DE OCORRÊNCIA            LOCALIDADE   UF  \\\n",
       "2006                               OUTROS TIPOS      NÃO IDENTIFICADA  ***   \n",
       "2025  CAUSADO POR FENÔMENO METEOROLÓGICO EM VOO  ÁGUAS INTERNACIONAIS  ***   \n",
       "\n",
       "        PAÍS DIA DA OCORRÊNCIA STATUS DA INVESTIGAÇÃO  CONTAGEM  \n",
       "2006  BRASIL        2015-03-06                  ATIVA         1  \n",
       "2025  BRASIL        2013-09-01                  ATIVA         1  "
      ]
     },
     "execution_count": 40,
     "metadata": {},
     "output_type": "execute_result"
    }
   ],
   "source": [
    "#Duas ocorrências em que não tiveram locais determinados\n",
    "ocorrencia[ocorrencia['UF'] == '***']"
   ]
  },
  {
   "cell_type": "markdown",
   "metadata": {},
   "source": [
    "<h2>Analisando o dataset de aeronaves</h2>"
   ]
  },
  {
   "cell_type": "markdown",
   "metadata": {},
   "source": [
    "<h3>Limpeza dos dados (Data Cleaning)</h3>"
   ]
  },
  {
   "cell_type": "code",
   "execution_count": 41,
   "metadata": {},
   "outputs": [
    {
     "data": {
      "text/html": [
       "<div>\n",
       "<style scoped>\n",
       "    .dataframe tbody tr th:only-of-type {\n",
       "        vertical-align: middle;\n",
       "    }\n",
       "\n",
       "    .dataframe tbody tr th {\n",
       "        vertical-align: top;\n",
       "    }\n",
       "\n",
       "    .dataframe thead th {\n",
       "        text-align: right;\n",
       "    }\n",
       "</style>\n",
       "<table border=\"1\" class=\"dataframe\">\n",
       "  <thead>\n",
       "    <tr style=\"text-align: right;\">\n",
       "      <th></th>\n",
       "      <th>codigo_aeronave</th>\n",
       "      <th>codigo_ocorrencia</th>\n",
       "      <th>matricula</th>\n",
       "      <th>codigo_operador</th>\n",
       "      <th>equipamento</th>\n",
       "      <th>fabricante</th>\n",
       "      <th>modelo</th>\n",
       "      <th>tipo_motor</th>\n",
       "      <th>quantidade_motores</th>\n",
       "      <th>peso_maximo_decolagem</th>\n",
       "      <th>...</th>\n",
       "      <th>pais_registro</th>\n",
       "      <th>categoria_registro</th>\n",
       "      <th>categoria_aviacao</th>\n",
       "      <th>origem_voo</th>\n",
       "      <th>destino_voo</th>\n",
       "      <th>fase_operacao</th>\n",
       "      <th>tipo_operacao</th>\n",
       "      <th>nivel_dano</th>\n",
       "      <th>quantidade_fatalidades</th>\n",
       "      <th>dia_extracao</th>\n",
       "    </tr>\n",
       "  </thead>\n",
       "  <tbody>\n",
       "    <tr>\n",
       "      <th>0</th>\n",
       "      <td>4</td>\n",
       "      <td>45602</td>\n",
       "      <td>PPGXE</td>\n",
       "      <td>241</td>\n",
       "      <td>AVIÃO</td>\n",
       "      <td>NEIVA INDUSTRIA AERONAUTICA</td>\n",
       "      <td>56-C</td>\n",
       "      <td>PISTÃO</td>\n",
       "      <td>1.0</td>\n",
       "      <td>660</td>\n",
       "      <td>...</td>\n",
       "      <td>BRASIL</td>\n",
       "      <td>PRI</td>\n",
       "      <td>INSTRUÇÃO</td>\n",
       "      <td>SDPW</td>\n",
       "      <td>SDPW</td>\n",
       "      <td>INDETERMINADA</td>\n",
       "      <td>INSTRUÇÃO</td>\n",
       "      <td>SUBSTANCIAL</td>\n",
       "      <td>NaN</td>\n",
       "      <td>2016-07-30</td>\n",
       "    </tr>\n",
       "    <tr>\n",
       "      <th>1</th>\n",
       "      <td>40</td>\n",
       "      <td>53551</td>\n",
       "      <td>PPGSZ</td>\n",
       "      <td>160</td>\n",
       "      <td>AVIÃO</td>\n",
       "      <td>NEIVA INDUSTRIA AERONAUTICA</td>\n",
       "      <td>56-C</td>\n",
       "      <td>PISTÃO</td>\n",
       "      <td>1.0</td>\n",
       "      <td>660</td>\n",
       "      <td>...</td>\n",
       "      <td>BRASIL</td>\n",
       "      <td>PRI</td>\n",
       "      <td>INSTRUÇÃO</td>\n",
       "      <td>SBBP</td>\n",
       "      <td>SBBP</td>\n",
       "      <td>DECOLAGEM</td>\n",
       "      <td>INSTRUÇÃO</td>\n",
       "      <td>LEVE</td>\n",
       "      <td>NaN</td>\n",
       "      <td>2016-07-30</td>\n",
       "    </tr>\n",
       "    <tr>\n",
       "      <th>2</th>\n",
       "      <td>118</td>\n",
       "      <td>43721</td>\n",
       "      <td>PTCMT</td>\n",
       "      <td>1232</td>\n",
       "      <td>AVIÃO</td>\n",
       "      <td>BEECH AIRCRAFT</td>\n",
       "      <td>95-B55</td>\n",
       "      <td>PISTÃO</td>\n",
       "      <td>2.0</td>\n",
       "      <td>2310</td>\n",
       "      <td>...</td>\n",
       "      <td>BRASIL</td>\n",
       "      <td>TPX</td>\n",
       "      <td>TÁXI AÉREO</td>\n",
       "      <td>****</td>\n",
       "      <td>****</td>\n",
       "      <td>CORRIDA APÓS POUSO</td>\n",
       "      <td>TÁXI AÉREO</td>\n",
       "      <td>SUBSTANCIAL</td>\n",
       "      <td>NaN</td>\n",
       "      <td>2016-07-30</td>\n",
       "    </tr>\n",
       "    <tr>\n",
       "      <th>3</th>\n",
       "      <td>130</td>\n",
       "      <td>35556</td>\n",
       "      <td>PTEQI</td>\n",
       "      <td>3992</td>\n",
       "      <td>AVIÃO</td>\n",
       "      <td>NEIVA INDUSTRIA AERONAUTICA</td>\n",
       "      <td>EMB-721C</td>\n",
       "      <td>PISTÃO</td>\n",
       "      <td>1.0</td>\n",
       "      <td>1633</td>\n",
       "      <td>...</td>\n",
       "      <td>BRASIL</td>\n",
       "      <td>TPP</td>\n",
       "      <td>PARTICULAR</td>\n",
       "      <td>SNDU</td>\n",
       "      <td>SBSL</td>\n",
       "      <td>CORRIDA APÓS POUSO</td>\n",
       "      <td>PRIVADA</td>\n",
       "      <td>LEVE</td>\n",
       "      <td>NaN</td>\n",
       "      <td>2016-07-30</td>\n",
       "    </tr>\n",
       "    <tr>\n",
       "      <th>4</th>\n",
       "      <td>191</td>\n",
       "      <td>32579</td>\n",
       "      <td>PPVMM</td>\n",
       "      <td>4365</td>\n",
       "      <td>AVIÃO</td>\n",
       "      <td>BOEING COMPANY</td>\n",
       "      <td>737-241</td>\n",
       "      <td>JATO</td>\n",
       "      <td>2.0</td>\n",
       "      <td>52389</td>\n",
       "      <td>...</td>\n",
       "      <td>BRASIL</td>\n",
       "      <td>TPR</td>\n",
       "      <td>REGULAR</td>\n",
       "      <td>****</td>\n",
       "      <td>****</td>\n",
       "      <td>SUBIDA</td>\n",
       "      <td>REGULAR</td>\n",
       "      <td>NENHUM</td>\n",
       "      <td>NaN</td>\n",
       "      <td>2016-07-30</td>\n",
       "    </tr>\n",
       "  </tbody>\n",
       "</table>\n",
       "<p>5 rows × 22 columns</p>\n",
       "</div>"
      ],
      "text/plain": [
       "   codigo_aeronave  codigo_ocorrencia matricula  codigo_operador equipamento  \\\n",
       "0                4              45602     PPGXE              241       AVIÃO   \n",
       "1               40              53551     PPGSZ              160       AVIÃO   \n",
       "2              118              43721     PTCMT             1232       AVIÃO   \n",
       "3              130              35556     PTEQI             3992       AVIÃO   \n",
       "4              191              32579     PPVMM             4365       AVIÃO   \n",
       "\n",
       "                    fabricante    modelo tipo_motor  quantidade_motores  \\\n",
       "0  NEIVA INDUSTRIA AERONAUTICA      56-C     PISTÃO                 1.0   \n",
       "1  NEIVA INDUSTRIA AERONAUTICA      56-C     PISTÃO                 1.0   \n",
       "2               BEECH AIRCRAFT    95-B55     PISTÃO                 2.0   \n",
       "3  NEIVA INDUSTRIA AERONAUTICA  EMB-721C     PISTÃO                 1.0   \n",
       "4               BOEING COMPANY   737-241       JATO                 2.0   \n",
       "\n",
       "   peso_maximo_decolagem     ...       pais_registro  categoria_registro  \\\n",
       "0                    660     ...              BRASIL                 PRI   \n",
       "1                    660     ...              BRASIL                 PRI   \n",
       "2                   2310     ...              BRASIL                 TPX   \n",
       "3                   1633     ...              BRASIL                 TPP   \n",
       "4                  52389     ...              BRASIL                 TPR   \n",
       "\n",
       "  categoria_aviacao origem_voo destino_voo       fase_operacao tipo_operacao  \\\n",
       "0         INSTRUÇÃO       SDPW        SDPW       INDETERMINADA     INSTRUÇÃO   \n",
       "1         INSTRUÇÃO       SBBP        SBBP           DECOLAGEM     INSTRUÇÃO   \n",
       "2        TÁXI AÉREO       ****        ****  CORRIDA APÓS POUSO    TÁXI AÉREO   \n",
       "3        PARTICULAR       SNDU        SBSL  CORRIDA APÓS POUSO       PRIVADA   \n",
       "4           REGULAR       ****        ****              SUBIDA       REGULAR   \n",
       "\n",
       "    nivel_dano quantidade_fatalidades dia_extracao  \n",
       "0  SUBSTANCIAL                    NaN   2016-07-30  \n",
       "1         LEVE                    NaN   2016-07-30  \n",
       "2  SUBSTANCIAL                    NaN   2016-07-30  \n",
       "3         LEVE                    NaN   2016-07-30  \n",
       "4       NENHUM                    NaN   2016-07-30  \n",
       "\n",
       "[5 rows x 22 columns]"
      ]
     },
     "execution_count": 41,
     "metadata": {},
     "output_type": "execute_result"
    }
   ],
   "source": [
    "aeronave.head()"
   ]
  },
  {
   "cell_type": "code",
   "execution_count": 42,
   "metadata": {},
   "outputs": [
    {
     "data": {
      "text/html": [
       "<div>\n",
       "<style scoped>\n",
       "    .dataframe tbody tr th:only-of-type {\n",
       "        vertical-align: middle;\n",
       "    }\n",
       "\n",
       "    .dataframe tbody tr th {\n",
       "        vertical-align: top;\n",
       "    }\n",
       "\n",
       "    .dataframe thead th {\n",
       "        text-align: right;\n",
       "    }\n",
       "</style>\n",
       "<table border=\"1\" class=\"dataframe\">\n",
       "  <thead>\n",
       "    <tr style=\"text-align: right;\">\n",
       "      <th></th>\n",
       "      <th>codigo_ocorrencia</th>\n",
       "      <th>equipamento</th>\n",
       "      <th>fabricante</th>\n",
       "      <th>modelo</th>\n",
       "      <th>tipo_motor</th>\n",
       "      <th>quantidade_motores</th>\n",
       "      <th>quantidade_assentos</th>\n",
       "      <th>ano_fabricacao</th>\n",
       "      <th>pais_registro</th>\n",
       "      <th>categoria_aviacao</th>\n",
       "      <th>fase_operacao</th>\n",
       "      <th>tipo_operacao</th>\n",
       "      <th>nivel_dano</th>\n",
       "      <th>quantidade_fatalidades</th>\n",
       "    </tr>\n",
       "  </thead>\n",
       "  <tbody>\n",
       "    <tr>\n",
       "      <th>0</th>\n",
       "      <td>45602</td>\n",
       "      <td>AVIÃO</td>\n",
       "      <td>NEIVA INDUSTRIA AERONAUTICA</td>\n",
       "      <td>56-C</td>\n",
       "      <td>PISTÃO</td>\n",
       "      <td>1.0</td>\n",
       "      <td>2.0</td>\n",
       "      <td>1962.0</td>\n",
       "      <td>BRASIL</td>\n",
       "      <td>INSTRUÇÃO</td>\n",
       "      <td>INDETERMINADA</td>\n",
       "      <td>INSTRUÇÃO</td>\n",
       "      <td>SUBSTANCIAL</td>\n",
       "      <td>NaN</td>\n",
       "    </tr>\n",
       "    <tr>\n",
       "      <th>1</th>\n",
       "      <td>53551</td>\n",
       "      <td>AVIÃO</td>\n",
       "      <td>NEIVA INDUSTRIA AERONAUTICA</td>\n",
       "      <td>56-C</td>\n",
       "      <td>PISTÃO</td>\n",
       "      <td>1.0</td>\n",
       "      <td>2.0</td>\n",
       "      <td>1960.0</td>\n",
       "      <td>BRASIL</td>\n",
       "      <td>INSTRUÇÃO</td>\n",
       "      <td>DECOLAGEM</td>\n",
       "      <td>INSTRUÇÃO</td>\n",
       "      <td>LEVE</td>\n",
       "      <td>NaN</td>\n",
       "    </tr>\n",
       "    <tr>\n",
       "      <th>2</th>\n",
       "      <td>43721</td>\n",
       "      <td>AVIÃO</td>\n",
       "      <td>BEECH AIRCRAFT</td>\n",
       "      <td>95-B55</td>\n",
       "      <td>PISTÃO</td>\n",
       "      <td>2.0</td>\n",
       "      <td>6.0</td>\n",
       "      <td>1966.0</td>\n",
       "      <td>BRASIL</td>\n",
       "      <td>TÁXI AÉREO</td>\n",
       "      <td>CORRIDA APÓS POUSO</td>\n",
       "      <td>TÁXI AÉREO</td>\n",
       "      <td>SUBSTANCIAL</td>\n",
       "      <td>NaN</td>\n",
       "    </tr>\n",
       "    <tr>\n",
       "      <th>3</th>\n",
       "      <td>35556</td>\n",
       "      <td>AVIÃO</td>\n",
       "      <td>NEIVA INDUSTRIA AERONAUTICA</td>\n",
       "      <td>EMB-721C</td>\n",
       "      <td>PISTÃO</td>\n",
       "      <td>1.0</td>\n",
       "      <td>6.0</td>\n",
       "      <td>1979.0</td>\n",
       "      <td>BRASIL</td>\n",
       "      <td>PARTICULAR</td>\n",
       "      <td>CORRIDA APÓS POUSO</td>\n",
       "      <td>PRIVADA</td>\n",
       "      <td>LEVE</td>\n",
       "      <td>NaN</td>\n",
       "    </tr>\n",
       "    <tr>\n",
       "      <th>4</th>\n",
       "      <td>32579</td>\n",
       "      <td>AVIÃO</td>\n",
       "      <td>BOEING COMPANY</td>\n",
       "      <td>737-241</td>\n",
       "      <td>JATO</td>\n",
       "      <td>2.0</td>\n",
       "      <td>117.0</td>\n",
       "      <td>1975.0</td>\n",
       "      <td>BRASIL</td>\n",
       "      <td>REGULAR</td>\n",
       "      <td>SUBIDA</td>\n",
       "      <td>REGULAR</td>\n",
       "      <td>NENHUM</td>\n",
       "      <td>NaN</td>\n",
       "    </tr>\n",
       "  </tbody>\n",
       "</table>\n",
       "</div>"
      ],
      "text/plain": [
       "   codigo_ocorrencia equipamento                   fabricante    modelo  \\\n",
       "0              45602       AVIÃO  NEIVA INDUSTRIA AERONAUTICA      56-C   \n",
       "1              53551       AVIÃO  NEIVA INDUSTRIA AERONAUTICA      56-C   \n",
       "2              43721       AVIÃO               BEECH AIRCRAFT    95-B55   \n",
       "3              35556       AVIÃO  NEIVA INDUSTRIA AERONAUTICA  EMB-721C   \n",
       "4              32579       AVIÃO               BOEING COMPANY   737-241   \n",
       "\n",
       "  tipo_motor  quantidade_motores  quantidade_assentos  ano_fabricacao  \\\n",
       "0     PISTÃO                 1.0                  2.0          1962.0   \n",
       "1     PISTÃO                 1.0                  2.0          1960.0   \n",
       "2     PISTÃO                 2.0                  6.0          1966.0   \n",
       "3     PISTÃO                 1.0                  6.0          1979.0   \n",
       "4       JATO                 2.0                117.0          1975.0   \n",
       "\n",
       "  pais_registro categoria_aviacao       fase_operacao tipo_operacao  \\\n",
       "0        BRASIL         INSTRUÇÃO       INDETERMINADA     INSTRUÇÃO   \n",
       "1        BRASIL         INSTRUÇÃO           DECOLAGEM     INSTRUÇÃO   \n",
       "2        BRASIL        TÁXI AÉREO  CORRIDA APÓS POUSO    TÁXI AÉREO   \n",
       "3        BRASIL        PARTICULAR  CORRIDA APÓS POUSO       PRIVADA   \n",
       "4        BRASIL           REGULAR              SUBIDA       REGULAR   \n",
       "\n",
       "    nivel_dano  quantidade_fatalidades  \n",
       "0  SUBSTANCIAL                     NaN  \n",
       "1         LEVE                     NaN  \n",
       "2  SUBSTANCIAL                     NaN  \n",
       "3         LEVE                     NaN  \n",
       "4       NENHUM                     NaN  "
      ]
     },
     "execution_count": 42,
     "metadata": {},
     "output_type": "execute_result"
    }
   ],
   "source": [
    "aeronave.drop(['codigo_aeronave','matricula','codigo_operador','peso_maximo_decolagem',\n",
    "               'categoria_registro', 'origem_voo', 'destino_voo', 'dia_extracao'], axis = 1, inplace = True)\n",
    "\n",
    "aeronave.head()"
   ]
  },
  {
   "cell_type": "code",
   "execution_count": 43,
   "metadata": {},
   "outputs": [
    {
     "data": {
      "text/plain": [
       "codigo_ocorrencia           int64\n",
       "equipamento                object\n",
       "fabricante                 object\n",
       "modelo                     object\n",
       "tipo_motor                 object\n",
       "quantidade_motores        float64\n",
       "quantidade_assentos       float64\n",
       "ano_fabricacao            float64\n",
       "pais_registro              object\n",
       "categoria_aviacao          object\n",
       "fase_operacao              object\n",
       "tipo_operacao              object\n",
       "nivel_dano                 object\n",
       "quantidade_fatalidades    float64\n",
       "dtype: object"
      ]
     },
     "execution_count": 43,
     "metadata": {},
     "output_type": "execute_result"
    }
   ],
   "source": [
    "aeronave.dtypes"
   ]
  },
  {
   "cell_type": "code",
   "execution_count": 46,
   "metadata": {},
   "outputs": [],
   "source": [
    "def convert_na(dataframe, column) : \n",
    "    for i in column :\n",
    "        dataframe[i].fillna(0, inplace = True)\n",
    "        \n",
    "convert_na(aeronave,['quantidade_fatalidades','quantidade_motores','ano_fabricacao','quantidade_assentos'])"
   ]
  },
  {
   "cell_type": "code",
   "execution_count": 48,
   "metadata": {},
   "outputs": [],
   "source": [
    "def convert_dtype(dataframe, column, dtype) :\n",
    "    for i in column :\n",
    "        dataframe[i] = dataframe[i].astype(dtype)\n",
    "        \n",
    "convert_dtype(aeronave,['quantidade_motores','quantidade_assentos','ano_fabricacao','quantidade_fatalidades'],int)"
   ]
  },
  {
   "cell_type": "code",
   "execution_count": 49,
   "metadata": {},
   "outputs": [
    {
     "data": {
      "text/plain": [
       "codigo_ocorrencia          int64\n",
       "equipamento               object\n",
       "fabricante                object\n",
       "modelo                    object\n",
       "tipo_motor                object\n",
       "quantidade_motores         int32\n",
       "quantidade_assentos        int32\n",
       "ano_fabricacao             int32\n",
       "pais_registro             object\n",
       "categoria_aviacao         object\n",
       "fase_operacao             object\n",
       "tipo_operacao             object\n",
       "nivel_dano                object\n",
       "quantidade_fatalidades     int32\n",
       "dtype: object"
      ]
     },
     "execution_count": 49,
     "metadata": {},
     "output_type": "execute_result"
    }
   ],
   "source": [
    "#Dtypes de float alterados para int\n",
    "aeronave.dtypes"
   ]
  },
  {
   "cell_type": "code",
   "execution_count": 50,
   "metadata": {
    "collapsed": true
   },
   "outputs": [],
   "source": [
    "aeronave.columns = ['CÓDIGO DA OCORRÊNCIA','EQUIPAMENTO','FABRICANTE','MODELO','TIPO DE MOTOR','QUANTIDADE DE MOTORES',\n",
    "                    'QUANTIDADE DE ASSENTOS','ANO DE FABRICAÇÃO','PAÍS DE REGISTRO','CATEGORIA DE AVIÃO','FASE DE OPERAÇÃO',\n",
    "                    'TIPO DE OPERAÇÃO','NÍVEL DE DANO','QUANTIDADE DE FATALIDADES']\n",
    "\n",
    "aeronave = aeronave.apply(lambda x : x.replace('***', 'NÃO IDENTIFICADO'))\n",
    "aeronave['CONTAGEM'] = 1"
   ]
  },
  {
   "cell_type": "code",
   "execution_count": 51,
   "metadata": {},
   "outputs": [
    {
     "data": {
      "text/html": [
       "<div>\n",
       "<style scoped>\n",
       "    .dataframe tbody tr th:only-of-type {\n",
       "        vertical-align: middle;\n",
       "    }\n",
       "\n",
       "    .dataframe tbody tr th {\n",
       "        vertical-align: top;\n",
       "    }\n",
       "\n",
       "    .dataframe thead th {\n",
       "        text-align: right;\n",
       "    }\n",
       "</style>\n",
       "<table border=\"1\" class=\"dataframe\">\n",
       "  <thead>\n",
       "    <tr style=\"text-align: right;\">\n",
       "      <th></th>\n",
       "      <th>CÓDIGO DA OCORRÊNCIA</th>\n",
       "      <th>EQUIPAMENTO</th>\n",
       "      <th>FABRICANTE</th>\n",
       "      <th>MODELO</th>\n",
       "      <th>TIPO DE MOTOR</th>\n",
       "      <th>QUANTIDADE DE MOTORES</th>\n",
       "      <th>QUANTIDADE DE ASSENTOS</th>\n",
       "      <th>ANO DE FABRICAÇÃO</th>\n",
       "      <th>PAÍS DE REGISTRO</th>\n",
       "      <th>CATEGORIA DE AVIÃO</th>\n",
       "      <th>FASE DE OPERAÇÃO</th>\n",
       "      <th>TIPO DE OPERAÇÃO</th>\n",
       "      <th>NÍVEL DE DANO</th>\n",
       "      <th>QUANTIDADE DE FATALIDADES</th>\n",
       "      <th>CONTAGEM</th>\n",
       "    </tr>\n",
       "  </thead>\n",
       "  <tbody>\n",
       "    <tr>\n",
       "      <th>0</th>\n",
       "      <td>45602</td>\n",
       "      <td>AVIÃO</td>\n",
       "      <td>NEIVA INDUSTRIA AERONAUTICA</td>\n",
       "      <td>56-C</td>\n",
       "      <td>PISTÃO</td>\n",
       "      <td>1</td>\n",
       "      <td>2</td>\n",
       "      <td>1962</td>\n",
       "      <td>BRASIL</td>\n",
       "      <td>INSTRUÇÃO</td>\n",
       "      <td>INDETERMINADA</td>\n",
       "      <td>INSTRUÇÃO</td>\n",
       "      <td>SUBSTANCIAL</td>\n",
       "      <td>0</td>\n",
       "      <td>1</td>\n",
       "    </tr>\n",
       "    <tr>\n",
       "      <th>1</th>\n",
       "      <td>53551</td>\n",
       "      <td>AVIÃO</td>\n",
       "      <td>NEIVA INDUSTRIA AERONAUTICA</td>\n",
       "      <td>56-C</td>\n",
       "      <td>PISTÃO</td>\n",
       "      <td>1</td>\n",
       "      <td>2</td>\n",
       "      <td>1960</td>\n",
       "      <td>BRASIL</td>\n",
       "      <td>INSTRUÇÃO</td>\n",
       "      <td>DECOLAGEM</td>\n",
       "      <td>INSTRUÇÃO</td>\n",
       "      <td>LEVE</td>\n",
       "      <td>0</td>\n",
       "      <td>1</td>\n",
       "    </tr>\n",
       "    <tr>\n",
       "      <th>2</th>\n",
       "      <td>43721</td>\n",
       "      <td>AVIÃO</td>\n",
       "      <td>BEECH AIRCRAFT</td>\n",
       "      <td>95-B55</td>\n",
       "      <td>PISTÃO</td>\n",
       "      <td>2</td>\n",
       "      <td>6</td>\n",
       "      <td>1966</td>\n",
       "      <td>BRASIL</td>\n",
       "      <td>TÁXI AÉREO</td>\n",
       "      <td>CORRIDA APÓS POUSO</td>\n",
       "      <td>TÁXI AÉREO</td>\n",
       "      <td>SUBSTANCIAL</td>\n",
       "      <td>0</td>\n",
       "      <td>1</td>\n",
       "    </tr>\n",
       "    <tr>\n",
       "      <th>3</th>\n",
       "      <td>35556</td>\n",
       "      <td>AVIÃO</td>\n",
       "      <td>NEIVA INDUSTRIA AERONAUTICA</td>\n",
       "      <td>EMB-721C</td>\n",
       "      <td>PISTÃO</td>\n",
       "      <td>1</td>\n",
       "      <td>6</td>\n",
       "      <td>1979</td>\n",
       "      <td>BRASIL</td>\n",
       "      <td>PARTICULAR</td>\n",
       "      <td>CORRIDA APÓS POUSO</td>\n",
       "      <td>PRIVADA</td>\n",
       "      <td>LEVE</td>\n",
       "      <td>0</td>\n",
       "      <td>1</td>\n",
       "    </tr>\n",
       "    <tr>\n",
       "      <th>4</th>\n",
       "      <td>32579</td>\n",
       "      <td>AVIÃO</td>\n",
       "      <td>BOEING COMPANY</td>\n",
       "      <td>737-241</td>\n",
       "      <td>JATO</td>\n",
       "      <td>2</td>\n",
       "      <td>117</td>\n",
       "      <td>1975</td>\n",
       "      <td>BRASIL</td>\n",
       "      <td>REGULAR</td>\n",
       "      <td>SUBIDA</td>\n",
       "      <td>REGULAR</td>\n",
       "      <td>NENHUM</td>\n",
       "      <td>0</td>\n",
       "      <td>1</td>\n",
       "    </tr>\n",
       "  </tbody>\n",
       "</table>\n",
       "</div>"
      ],
      "text/plain": [
       "   CÓDIGO DA OCORRÊNCIA EQUIPAMENTO                   FABRICANTE    MODELO  \\\n",
       "0                 45602       AVIÃO  NEIVA INDUSTRIA AERONAUTICA      56-C   \n",
       "1                 53551       AVIÃO  NEIVA INDUSTRIA AERONAUTICA      56-C   \n",
       "2                 43721       AVIÃO               BEECH AIRCRAFT    95-B55   \n",
       "3                 35556       AVIÃO  NEIVA INDUSTRIA AERONAUTICA  EMB-721C   \n",
       "4                 32579       AVIÃO               BOEING COMPANY   737-241   \n",
       "\n",
       "  TIPO DE MOTOR  QUANTIDADE DE MOTORES  QUANTIDADE DE ASSENTOS  \\\n",
       "0        PISTÃO                      1                       2   \n",
       "1        PISTÃO                      1                       2   \n",
       "2        PISTÃO                      2                       6   \n",
       "3        PISTÃO                      1                       6   \n",
       "4          JATO                      2                     117   \n",
       "\n",
       "   ANO DE FABRICAÇÃO PAÍS DE REGISTRO CATEGORIA DE AVIÃO    FASE DE OPERAÇÃO  \\\n",
       "0               1962           BRASIL          INSTRUÇÃO       INDETERMINADA   \n",
       "1               1960           BRASIL          INSTRUÇÃO           DECOLAGEM   \n",
       "2               1966           BRASIL         TÁXI AÉREO  CORRIDA APÓS POUSO   \n",
       "3               1979           BRASIL         PARTICULAR  CORRIDA APÓS POUSO   \n",
       "4               1975           BRASIL            REGULAR              SUBIDA   \n",
       "\n",
       "  TIPO DE OPERAÇÃO NÍVEL DE DANO  QUANTIDADE DE FATALIDADES  CONTAGEM  \n",
       "0        INSTRUÇÃO   SUBSTANCIAL                          0         1  \n",
       "1        INSTRUÇÃO          LEVE                          0         1  \n",
       "2       TÁXI AÉREO   SUBSTANCIAL                          0         1  \n",
       "3          PRIVADA          LEVE                          0         1  \n",
       "4          REGULAR        NENHUM                          0         1  "
      ]
     },
     "execution_count": 51,
     "metadata": {},
     "output_type": "execute_result"
    }
   ],
   "source": [
    "#DataFrame alterado#DataFram \n",
    "aeronave.head()"
   ]
  },
  {
   "cell_type": "code",
   "execution_count": 52,
   "metadata": {},
   "outputs": [
    {
     "data": {
      "text/plain": [
       "False"
      ]
     },
     "execution_count": 52,
     "metadata": {},
     "output_type": "execute_result"
    }
   ],
   "source": [
    "#Verificando se os dataframes são iguais\n",
    "aeronave['CÓDIGO DA OCORRÊNCIA'].equals(ocorrencia['CÓDIGO DA OCORRÊNCIA'])"
   ]
  },
  {
   "cell_type": "code",
   "execution_count": 53,
   "metadata": {
    "collapsed": true
   },
   "outputs": [],
   "source": [
    "# Pegando as linhas duplicadas do DataFrame\n",
    "ocorrencias_duplicadas = aeronave[aeronave['CÓDIGO DA OCORRÊNCIA'].duplicated()].reset_index(drop = True)\n",
    "ocorrencias_duplicadas.drop('CONTAGEM', axis = 1, inplace = True)"
   ]
  },
  {
   "cell_type": "code",
   "execution_count": 54,
   "metadata": {},
   "outputs": [
    {
     "name": "stdout",
     "output_type": "stream",
     "text": [
      "Há 16 ocorrências duplicadas.\n"
     ]
    }
   ],
   "source": [
    "print('Há ' + str(ocorrencias_duplicadas.shape[0]) + ' ocorrências duplicadas.')"
   ]
  },
  {
   "cell_type": "code",
   "execution_count": 55,
   "metadata": {},
   "outputs": [
    {
     "data": {
      "text/html": [
       "<div>\n",
       "<style scoped>\n",
       "    .dataframe tbody tr th:only-of-type {\n",
       "        vertical-align: middle;\n",
       "    }\n",
       "\n",
       "    .dataframe tbody tr th {\n",
       "        vertical-align: top;\n",
       "    }\n",
       "\n",
       "    .dataframe thead th {\n",
       "        text-align: right;\n",
       "    }\n",
       "</style>\n",
       "<table border=\"1\" class=\"dataframe\">\n",
       "  <thead>\n",
       "    <tr style=\"text-align: right;\">\n",
       "      <th></th>\n",
       "      <th>CÓDIGO DA OCORRÊNCIA</th>\n",
       "      <th>EQUIPAMENTO</th>\n",
       "      <th>FABRICANTE</th>\n",
       "      <th>MODELO</th>\n",
       "      <th>TIPO DE MOTOR</th>\n",
       "      <th>QUANTIDADE DE MOTORES</th>\n",
       "      <th>QUANTIDADE DE ASSENTOS</th>\n",
       "      <th>ANO DE FABRICAÇÃO</th>\n",
       "      <th>PAÍS DE REGISTRO</th>\n",
       "      <th>CATEGORIA DE AVIÃO</th>\n",
       "      <th>FASE DE OPERAÇÃO</th>\n",
       "      <th>TIPO DE OPERAÇÃO</th>\n",
       "      <th>NÍVEL DE DANO</th>\n",
       "      <th>QUANTIDADE DE FATALIDADES</th>\n",
       "    </tr>\n",
       "  </thead>\n",
       "  <tbody>\n",
       "    <tr>\n",
       "      <th>0</th>\n",
       "      <td>52288</td>\n",
       "      <td>AVIÃO</td>\n",
       "      <td>NEIVA INDUSTRIA AERONAUTICA</td>\n",
       "      <td>56-B</td>\n",
       "      <td>PISTÃO</td>\n",
       "      <td>1</td>\n",
       "      <td>2</td>\n",
       "      <td>1963</td>\n",
       "      <td>BRASIL</td>\n",
       "      <td>INSTRUÇÃO</td>\n",
       "      <td>POUSO</td>\n",
       "      <td>INSTRUÇÃO</td>\n",
       "      <td>NENHUM</td>\n",
       "      <td>0</td>\n",
       "    </tr>\n",
       "    <tr>\n",
       "      <th>1</th>\n",
       "      <td>50801</td>\n",
       "      <td>HELICÓPTERO</td>\n",
       "      <td>ROBINSON HELICOPTER</td>\n",
       "      <td>R44</td>\n",
       "      <td>PISTÃO</td>\n",
       "      <td>1</td>\n",
       "      <td>4</td>\n",
       "      <td>2001</td>\n",
       "      <td>BRASIL</td>\n",
       "      <td>PARTICULAR</td>\n",
       "      <td>PARTIDA DO MOTOR</td>\n",
       "      <td>PRIVADA</td>\n",
       "      <td>SUBSTANCIAL</td>\n",
       "      <td>0</td>\n",
       "    </tr>\n",
       "    <tr>\n",
       "      <th>2</th>\n",
       "      <td>38419</td>\n",
       "      <td>AVIÃO</td>\n",
       "      <td>LEARJET</td>\n",
       "      <td>45</td>\n",
       "      <td>JATO</td>\n",
       "      <td>2</td>\n",
       "      <td>9</td>\n",
       "      <td>2004</td>\n",
       "      <td>BRASIL</td>\n",
       "      <td>PARTICULAR</td>\n",
       "      <td>ESTACIONAMENTO</td>\n",
       "      <td>PRIVADA</td>\n",
       "      <td>NÃO IDENTIFICADO</td>\n",
       "      <td>0</td>\n",
       "    </tr>\n",
       "    <tr>\n",
       "      <th>3</th>\n",
       "      <td>38419</td>\n",
       "      <td>AVIÃO</td>\n",
       "      <td>RAYTHEON AIRCRAFT</td>\n",
       "      <td>HAWKER 800XP</td>\n",
       "      <td>JATO</td>\n",
       "      <td>2</td>\n",
       "      <td>10</td>\n",
       "      <td>1998</td>\n",
       "      <td>BRASIL</td>\n",
       "      <td>TÁXI AÉREO</td>\n",
       "      <td>ESTACIONAMENTO</td>\n",
       "      <td>TÁXI AÉREO</td>\n",
       "      <td>NÃO IDENTIFICADO</td>\n",
       "      <td>0</td>\n",
       "    </tr>\n",
       "    <tr>\n",
       "      <th>4</th>\n",
       "      <td>43869</td>\n",
       "      <td>ULTRALEVE</td>\n",
       "      <td>NÃO IDENTIFICADO</td>\n",
       "      <td>FOX II</td>\n",
       "      <td>PISTÃO</td>\n",
       "      <td>1</td>\n",
       "      <td>2</td>\n",
       "      <td>1990</td>\n",
       "      <td>BRASIL</td>\n",
       "      <td>EXPERIMENTAL</td>\n",
       "      <td>INDETERMINADA</td>\n",
       "      <td>EXPERIMENTAL</td>\n",
       "      <td>DESTRUÍDA</td>\n",
       "      <td>0</td>\n",
       "    </tr>\n",
       "    <tr>\n",
       "      <th>5</th>\n",
       "      <td>45222</td>\n",
       "      <td>AVIÃO</td>\n",
       "      <td>CESSNA AIRCRAFT</td>\n",
       "      <td>550</td>\n",
       "      <td>JATO</td>\n",
       "      <td>2</td>\n",
       "      <td>10</td>\n",
       "      <td>1978</td>\n",
       "      <td>BRASIL</td>\n",
       "      <td>TÁXI AÉREO</td>\n",
       "      <td>DECOLAGEM</td>\n",
       "      <td>TÁXI AÉREO</td>\n",
       "      <td>NENHUM</td>\n",
       "      <td>0</td>\n",
       "    </tr>\n",
       "  </tbody>\n",
       "</table>\n",
       "</div>"
      ],
      "text/plain": [
       "   CÓDIGO DA OCORRÊNCIA  EQUIPAMENTO                   FABRICANTE  \\\n",
       "0                 52288        AVIÃO  NEIVA INDUSTRIA AERONAUTICA   \n",
       "1                 50801  HELICÓPTERO          ROBINSON HELICOPTER   \n",
       "2                 38419        AVIÃO                      LEARJET   \n",
       "3                 38419        AVIÃO            RAYTHEON AIRCRAFT   \n",
       "4                 43869    ULTRALEVE             NÃO IDENTIFICADO   \n",
       "5                 45222        AVIÃO              CESSNA AIRCRAFT   \n",
       "\n",
       "         MODELO TIPO DE MOTOR  QUANTIDADE DE MOTORES  QUANTIDADE DE ASSENTOS  \\\n",
       "0          56-B        PISTÃO                      1                       2   \n",
       "1           R44        PISTÃO                      1                       4   \n",
       "2            45          JATO                      2                       9   \n",
       "3  HAWKER 800XP          JATO                      2                      10   \n",
       "4        FOX II        PISTÃO                      1                       2   \n",
       "5           550          JATO                      2                      10   \n",
       "\n",
       "   ANO DE FABRICAÇÃO PAÍS DE REGISTRO CATEGORIA DE AVIÃO  FASE DE OPERAÇÃO  \\\n",
       "0               1963           BRASIL          INSTRUÇÃO             POUSO   \n",
       "1               2001           BRASIL         PARTICULAR  PARTIDA DO MOTOR   \n",
       "2               2004           BRASIL         PARTICULAR    ESTACIONAMENTO   \n",
       "3               1998           BRASIL         TÁXI AÉREO    ESTACIONAMENTO   \n",
       "4               1990           BRASIL       EXPERIMENTAL     INDETERMINADA   \n",
       "5               1978           BRASIL         TÁXI AÉREO         DECOLAGEM   \n",
       "\n",
       "  TIPO DE OPERAÇÃO     NÍVEL DE DANO  QUANTIDADE DE FATALIDADES  \n",
       "0        INSTRUÇÃO            NENHUM                          0  \n",
       "1          PRIVADA       SUBSTANCIAL                          0  \n",
       "2          PRIVADA  NÃO IDENTIFICADO                          0  \n",
       "3       TÁXI AÉREO  NÃO IDENTIFICADO                          0  \n",
       "4     EXPERIMENTAL         DESTRUÍDA                          0  \n",
       "5       TÁXI AÉREO            NENHUM                          0  "
      ]
     },
     "execution_count": 55,
     "metadata": {},
     "output_type": "execute_result"
    }
   ],
   "source": [
    "ocorrencias_duplicadas.head(6)"
   ]
  },
  {
   "cell_type": "markdown",
   "metadata": {},
   "source": [
    "<h3>Visualização dos Dados (Data Visualization)</h3>"
   ]
  },
  {
   "cell_type": "markdown",
   "metadata": {},
   "source": [
    "Qual tipo de motor mais gerou ocorrências nos últimos 10 anos?"
   ]
  },
  {
   "cell_type": "code",
   "execution_count": null,
   "metadata": {
    "collapsed": true
   },
   "outputs": [],
   "source": []
  }
 ],
 "metadata": {
  "kernelspec": {
   "display_name": "Python 3",
   "language": "python",
   "name": "python3"
  },
  "language_info": {
   "codemirror_mode": {
    "name": "ipython",
    "version": 3
   },
   "file_extension": ".py",
   "mimetype": "text/x-python",
   "name": "python",
   "nbconvert_exporter": "python",
   "pygments_lexer": "ipython3",
   "version": "3.6.4"
  }
 },
 "nbformat": 4,
 "nbformat_minor": 2
}
